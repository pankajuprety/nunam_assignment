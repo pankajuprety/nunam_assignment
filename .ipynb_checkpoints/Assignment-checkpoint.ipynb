{
 "cells": [
  {
   "cell_type": "code",
   "execution_count": 1,
   "metadata": {},
   "outputs": [],
   "source": [
    "import pandas as pd"
   ]
  },
  {
   "cell_type": "code",
   "execution_count": 4,
   "metadata": {},
   "outputs": [],
   "source": [
    "df=pd.read_excel(\"data_1.xlsx\",engine='openpyxl')"
   ]
  },
  {
   "cell_type": "code",
   "execution_count": 5,
   "metadata": {},
   "outputs": [
    {
     "data": {
      "text/html": [
       "<div>\n",
       "<style scoped>\n",
       "    .dataframe tbody tr th:only-of-type {\n",
       "        vertical-align: middle;\n",
       "    }\n",
       "\n",
       "    .dataframe tbody tr th {\n",
       "        vertical-align: top;\n",
       "    }\n",
       "\n",
       "    .dataframe thead th {\n",
       "        text-align: right;\n",
       "    }\n",
       "</style>\n",
       "<table border=\"1\" class=\"dataframe\">\n",
       "  <thead>\n",
       "    <tr style=\"text-align: right;\">\n",
       "      <th></th>\n",
       "      <th>Record ID</th>\n",
       "      <th>Step Name</th>\n",
       "      <th>Relative Time(h:min:s.ms)</th>\n",
       "      <th>Realtime</th>\n",
       "      <th>Auxiliary channel TU1 T(°C)</th>\n",
       "      <th>Gap of Temperature</th>\n",
       "    </tr>\n",
       "  </thead>\n",
       "  <tbody>\n",
       "    <tr>\n",
       "      <th>0</th>\n",
       "      <td>196606</td>\n",
       "      <td>CCCV_DChg</td>\n",
       "      <td>0:04:10.000</td>\n",
       "      <td>2020-10-13 02:39:32</td>\n",
       "      <td>28.3</td>\n",
       "      <td>0</td>\n",
       "    </tr>\n",
       "    <tr>\n",
       "      <th>1</th>\n",
       "      <td>196607</td>\n",
       "      <td>CCCV_DChg</td>\n",
       "      <td>0:04:11.000</td>\n",
       "      <td>2020-10-13 02:39:33</td>\n",
       "      <td>28.3</td>\n",
       "      <td>0</td>\n",
       "    </tr>\n",
       "    <tr>\n",
       "      <th>2</th>\n",
       "      <td>196608</td>\n",
       "      <td>CCCV_DChg</td>\n",
       "      <td>0:04:12.000</td>\n",
       "      <td>2020-10-13 02:39:34</td>\n",
       "      <td>28.3</td>\n",
       "      <td>0</td>\n",
       "    </tr>\n",
       "    <tr>\n",
       "      <th>3</th>\n",
       "      <td>196609</td>\n",
       "      <td>CCCV_DChg</td>\n",
       "      <td>0:04:13.000</td>\n",
       "      <td>2020-10-13 02:39:35</td>\n",
       "      <td>28.3</td>\n",
       "      <td>0</td>\n",
       "    </tr>\n",
       "    <tr>\n",
       "      <th>4</th>\n",
       "      <td>196610</td>\n",
       "      <td>CCCV_DChg</td>\n",
       "      <td>0:04:14.000</td>\n",
       "      <td>2020-10-13 02:39:36</td>\n",
       "      <td>28.3</td>\n",
       "      <td>0</td>\n",
       "    </tr>\n",
       "    <tr>\n",
       "      <th>...</th>\n",
       "      <td>...</td>\n",
       "      <td>...</td>\n",
       "      <td>...</td>\n",
       "      <td>...</td>\n",
       "      <td>...</td>\n",
       "      <td>...</td>\n",
       "    </tr>\n",
       "    <tr>\n",
       "      <th>65530</th>\n",
       "      <td>262136</td>\n",
       "      <td>CCCV_Chg</td>\n",
       "      <td>2:41:26.000</td>\n",
       "      <td>2020-10-13 20:51:29</td>\n",
       "      <td>28.0</td>\n",
       "      <td>0</td>\n",
       "    </tr>\n",
       "    <tr>\n",
       "      <th>65531</th>\n",
       "      <td>262137</td>\n",
       "      <td>CCCV_Chg</td>\n",
       "      <td>2:41:27.000</td>\n",
       "      <td>2020-10-13 20:51:30</td>\n",
       "      <td>28.0</td>\n",
       "      <td>0</td>\n",
       "    </tr>\n",
       "    <tr>\n",
       "      <th>65532</th>\n",
       "      <td>262138</td>\n",
       "      <td>CCCV_Chg</td>\n",
       "      <td>2:41:28.000</td>\n",
       "      <td>2020-10-13 20:51:31</td>\n",
       "      <td>28.1</td>\n",
       "      <td>0</td>\n",
       "    </tr>\n",
       "    <tr>\n",
       "      <th>65533</th>\n",
       "      <td>262139</td>\n",
       "      <td>CCCV_Chg</td>\n",
       "      <td>2:41:29.000</td>\n",
       "      <td>2020-10-13 20:51:32</td>\n",
       "      <td>28.1</td>\n",
       "      <td>0</td>\n",
       "    </tr>\n",
       "    <tr>\n",
       "      <th>65534</th>\n",
       "      <td>262140</td>\n",
       "      <td>CCCV_Chg</td>\n",
       "      <td>2:41:30.000</td>\n",
       "      <td>2020-10-13 20:51:33</td>\n",
       "      <td>28.1</td>\n",
       "      <td>0</td>\n",
       "    </tr>\n",
       "  </tbody>\n",
       "</table>\n",
       "<p>65535 rows × 6 columns</p>\n",
       "</div>"
      ],
      "text/plain": [
       "       Record ID  Step Name Relative Time(h:min:s.ms)            Realtime  \\\n",
       "0         196606  CCCV_DChg               0:04:10.000 2020-10-13 02:39:32   \n",
       "1         196607  CCCV_DChg               0:04:11.000 2020-10-13 02:39:33   \n",
       "2         196608  CCCV_DChg               0:04:12.000 2020-10-13 02:39:34   \n",
       "3         196609  CCCV_DChg               0:04:13.000 2020-10-13 02:39:35   \n",
       "4         196610  CCCV_DChg               0:04:14.000 2020-10-13 02:39:36   \n",
       "...          ...        ...                       ...                 ...   \n",
       "65530     262136   CCCV_Chg               2:41:26.000 2020-10-13 20:51:29   \n",
       "65531     262137   CCCV_Chg               2:41:27.000 2020-10-13 20:51:30   \n",
       "65532     262138   CCCV_Chg               2:41:28.000 2020-10-13 20:51:31   \n",
       "65533     262139   CCCV_Chg               2:41:29.000 2020-10-13 20:51:32   \n",
       "65534     262140   CCCV_Chg               2:41:30.000 2020-10-13 20:51:33   \n",
       "\n",
       "       Auxiliary channel TU1 T(°C)  Gap of Temperature  \n",
       "0                             28.3                   0  \n",
       "1                             28.3                   0  \n",
       "2                             28.3                   0  \n",
       "3                             28.3                   0  \n",
       "4                             28.3                   0  \n",
       "...                            ...                 ...  \n",
       "65530                         28.0                   0  \n",
       "65531                         28.0                   0  \n",
       "65532                         28.1                   0  \n",
       "65533                         28.1                   0  \n",
       "65534                         28.1                   0  \n",
       "\n",
       "[65535 rows x 6 columns]"
      ]
     },
     "execution_count": 5,
     "metadata": {},
     "output_type": "execute_result"
    }
   ],
   "source": [
    "df"
   ]
  },
  {
   "cell_type": "code",
   "execution_count": 6,
   "metadata": {},
   "outputs": [],
   "source": [
    "df=df.dropna()"
   ]
  },
  {
   "cell_type": "code",
   "execution_count": 8,
   "metadata": {},
   "outputs": [],
   "source": [
    "name=df['Step Name']"
   ]
  },
  {
   "cell_type": "markdown",
   "metadata": {},
   "source": []
  },
  {
   "cell_type": "code",
   "execution_count": 12,
   "metadata": {},
   "outputs": [],
   "source": [
    "name=set(name)"
   ]
  },
  {
   "cell_type": "code",
   "execution_count": 13,
   "metadata": {},
   "outputs": [
    {
     "data": {
      "text/plain": [
       "{'CCCV_Chg', 'CCCV_DChg', 'Rest'}"
      ]
     },
     "execution_count": 13,
     "metadata": {},
     "output_type": "execute_result"
    }
   ],
   "source": [
    "name"
   ]
  },
  {
   "cell_type": "code",
   "execution_count": 17,
   "metadata": {},
   "outputs": [
    {
     "ename": "NameError",
     "evalue": "name 'CCCV_Chg' is not defined",
     "output_type": "error",
     "traceback": [
      "\u001b[1;31m---------------------------------------------------------------------------\u001b[0m",
      "\u001b[1;31mNameError\u001b[0m                                 Traceback (most recent call last)",
      "\u001b[1;32m<ipython-input-17-b0e1d1935e7c>\u001b[0m in \u001b[0;36m<module>\u001b[1;34m\u001b[0m\n\u001b[0;32m      1\u001b[0m \u001b[0mcccvchg\u001b[0m\u001b[1;33m=\u001b[0m\u001b[1;33m[\u001b[0m\u001b[1;33m]\u001b[0m\u001b[1;33m\u001b[0m\u001b[1;33m\u001b[0m\u001b[0m\n\u001b[0;32m      2\u001b[0m \u001b[1;32mfor\u001b[0m \u001b[0mi\u001b[0m \u001b[1;32min\u001b[0m \u001b[0mrange\u001b[0m\u001b[1;33m(\u001b[0m\u001b[1;36m0\u001b[0m\u001b[1;33m,\u001b[0m\u001b[0mlen\u001b[0m\u001b[1;33m(\u001b[0m\u001b[0mdf\u001b[0m\u001b[1;33m[\u001b[0m\u001b[1;34m'Step Name'\u001b[0m\u001b[1;33m]\u001b[0m\u001b[1;33m)\u001b[0m\u001b[1;33m)\u001b[0m\u001b[1;33m:\u001b[0m\u001b[1;33m\u001b[0m\u001b[1;33m\u001b[0m\u001b[0m\n\u001b[1;32m----> 3\u001b[1;33m     \u001b[1;32mif\u001b[0m\u001b[1;33m(\u001b[0m\u001b[0mdf\u001b[0m\u001b[1;33m[\u001b[0m\u001b[1;34m'Step Name'\u001b[0m\u001b[1;33m]\u001b[0m\u001b[1;33m[\u001b[0m\u001b[0mi\u001b[0m\u001b[1;33m]\u001b[0m\u001b[1;33m==\u001b[0m\u001b[0mCCCV_Chg\u001b[0m\u001b[1;33m)\u001b[0m\u001b[1;33m:\u001b[0m\u001b[1;33m\u001b[0m\u001b[1;33m\u001b[0m\u001b[0m\n\u001b[0m\u001b[0;32m      4\u001b[0m         \u001b[0mcccvchg\u001b[0m\u001b[1;33m.\u001b[0m\u001b[0mappend\u001b[0m\u001b[1;33m(\u001b[0m\u001b[0mdf\u001b[0m\u001b[1;33m[\u001b[0m\u001b[0mi\u001b[0m\u001b[1;33m]\u001b[0m\u001b[1;33m)\u001b[0m\u001b[1;33m\u001b[0m\u001b[1;33m\u001b[0m\u001b[0m\n\u001b[0;32m      5\u001b[0m \u001b[1;33m\u001b[0m\u001b[0m\n",
      "\u001b[1;31mNameError\u001b[0m: name 'CCCV_Chg' is not defined"
     ]
    }
   ],
   "source": [
    "cccvchg=[]\n",
    "for i in range(0,len(df['Step Name'])):\n",
    "    if(df['Step Name'][i]==\"CCCV_Chg\"):\n",
    "        cccvchg.append(df[i])\n",
    "\n",
    "    "
   ]
  },
  {
   "cell_type": "code",
   "execution_count": null,
   "metadata": {},
   "outputs": [],
   "source": []
  }
 ],
 "metadata": {
  "kernelspec": {
   "display_name": "Python 3",
   "language": "python",
   "name": "python3"
  },
  "language_info": {
   "codemirror_mode": {
    "name": "ipython",
    "version": 3
   },
   "file_extension": ".py",
   "mimetype": "text/x-python",
   "name": "python",
   "nbconvert_exporter": "python",
   "pygments_lexer": "ipython3",
   "version": "3.8.5"
  }
 },
 "nbformat": 4,
 "nbformat_minor": 5
}
